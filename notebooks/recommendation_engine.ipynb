{
 "cells": [
  {
   "cell_type": "code",
   "execution_count": null,
   "id": "9c819438",
   "metadata": {},
   "outputs": [],
   "source": [
    "# STEP 1 – Import Libraries\n",
    "\n",
    "import pandas as pd\n",
    "import numpy as np\n",
    "from sklearn.feature_extraction.text import TfidfVectorizer, CountVectorizer\n",
    "from sklearn.metrics.pairwise import linear_kernel, cosine_similarity\n",
    "from sklearn.model_selection import train_test_split\n",
    "from surprise import Dataset, Reader, SVD\n",
    "from surprise.model_selection import cross_validate"
   ]
  },
  {
   "cell_type": "code",
   "execution_count": null,
   "id": "6d366433",
   "metadata": {},
   "outputs": [],
   "source": [
    "# STEP 2 – Load Data\n",
    "\n",
    "# Set path to your data folder\n",
    "data_path = \"data/\"\n",
    "\n",
    "# Load datasets\n",
    "credits = pd.read_csv(data_path + \"credits.csv\")\n",
    "keywords = pd.read_csv(data_path + \"keywords.csv\")\n",
    "links = pd.read_csv(data_path + \"links.csv\")\n",
    "links_small = pd.read_csv(data_path + \"links_small.csv\")\n",
    "movies_metadata = pd.read_csv(data_path + \"movies_metadata.csv\", low_memory=False)\n",
    "ratings = pd.read_csv(data_path + \"ratings.csv\")\n",
    "rating_small = pd.read_csv(data_path + \"rating_small.csv\")"
   ]
  },
  {
   "cell_type": "code",
   "execution_count": null,
   "id": "fd8856b9",
   "metadata": {},
   "outputs": [],
   "source": [
    "# STEP 3 – Clean & Prepare Data\n",
    "\n",
    "# Convert IDs to numeric safely\n",
    "movies_metadata['id'] = pd.to_numeric(movies_metadata['id'], errors='coerce')\n",
    "credits['id'] = pd.to_numeric(credits['id'], errors='coerce')\n",
    "keywords['id'] = pd.to_numeric(keywords['id'], errors='coerce')\n",
    "\n",
    "# Drop NaNs\n",
    "movies_metadata.dropna(subset=['id'], inplace=True)\n",
    "\n",
    "# Merge additional features\n",
    "movies = movies_metadata.merge(credits, on='id', how='left')\n",
    "movies = movies.merge(keywords, on='id', how='left')"
   ]
  },
  {
   "cell_type": "code",
   "execution_count": null,
   "id": "7a73623b",
   "metadata": {},
   "outputs": [],
   "source": [
    "# STEP 4 – Create Content Features\n",
    "\n",
    "# We’ll combine: Genres, Overview, Keywords, Cast, Crew then Create 'soup' text for vectorizer\n",
    "\n",
    "# Fill NaN with empty strings\n",
    "movies['overview'] = movies['overview'].fillna('')\n",
    "movies['genres'] = movies['genres'].fillna('[]')\n",
    "movies['keywords'] = movies['keywords'].fillna('[]')\n",
    "movies['cast'] = movies['cast'].fillna('[]')\n",
    "movies['crew'] = movies['crew'].fillna('[]')\n",
    "\n",
    "import ast\n",
    "\n",
    "def convert(obj):\n",
    "    L = []\n",
    "    for i in ast.literal_eval(obj):\n",
    "        if isinstance(i, dict) and 'name' in i:\n",
    "            L.append(i['name'])\n",
    "    return ' '.join(L)\n",
    "\n",
    "# Apply to each relevant column\n",
    "movies['genres'] = movies['genres'].apply(convert)\n",
    "movies['keywords'] = movies['keywords'].apply(convert)\n",
    "movies['cast'] = movies['cast'].apply(convert)\n",
    "movies['crew'] = movies['crew'].apply(convert)\n",
    "\n",
    "# Create a text soup\n",
    "movies['soup'] = movies['genres'] + ' ' + movies['keywords'] + ' ' + movies['overview'] + ' ' + movies['cast'] + ' ' + movies['crew']"
   ]
  },
  {
   "cell_type": "code",
   "execution_count": null,
   "id": "eb76783d",
   "metadata": {},
   "outputs": [],
   "source": [
    "# STEP 5 – Vectorize Content Features\n",
    "\n",
    "tfidf = TfidfVectorizer(stop_words='english')\n",
    "tfidf_matrix = tfidf.fit_transform(movies['soup'])\n",
    "\n",
    "# Compute similarity matrix:\n",
    "cosine_sim = linear_kernel(tfidf_matrix, tfidf_matrix)"
   ]
  },
  {
   "cell_type": "code",
   "execution_count": null,
   "id": "4b70ba22",
   "metadata": {},
   "outputs": [],
   "source": [
    "# STEP 6 – Create Movie Title Index\n",
    "\n",
    "indices = pd.Series(movies.index, index=movies['title']).drop_duplicates()"
   ]
  },
  {
   "cell_type": "code",
   "execution_count": null,
   "id": "54e56090",
   "metadata": {},
   "outputs": [],
   "source": [
    "# STEP 7 – Collaborative Filtering Model (SVD)\n",
    "\n",
    "# We’ll train on all ratings but keep a test split to measure performance. Prepare ratings data for Surprise\n",
    "\n",
    "reader = Reader(rating_scale=(0.5, 5.0))\n",
    "data = Dataset.load_from_df(ratings[['userId', 'movieId', 'rating']], reader)\n",
    "\n",
    "# Train-test split\n",
    "trainset, testset = train_test_split(ratings, test_size=0.20, random_state=42)\n",
    "\n",
    "# Use full training data for fitting SVD\n",
    "train_data = Dataset.load_from_df(trainset[['userId', 'movieId', 'rating']], reader)\n",
    "trainset_full = train_data.build_full_trainset()\n",
    "\n",
    "# Fit SVD\n",
    "algo = SVD()\n",
    "algo.fit(trainset_full)\n",
    "\n",
    "# Optional cross-validation:\n",
    "cross_validate(algo, data, measures=['RMSE', 'MAE'], cv=5, verbose=True)"
   ]
  },
  {
   "cell_type": "code",
   "execution_count": null,
   "id": "c268fd08",
   "metadata": {},
   "outputs": [],
   "source": [
    "# STEP 8 – Define Recommendation Functions\n",
    "\n",
    "# Function: Recommend Similar Movies\n",
    "\n",
    "def get_recommendations(title, cosine_sim=cosine_sim):\n",
    "    idx = indices.get(title)\n",
    "    if idx is None:\n",
    "        return []\n",
    "    \n",
    "    sim_scores = list(enumerate(cosine_sim[idx]))\n",
    "    sim_scores = sorted(sim_scores, key=lambda x: x[1], reverse=True)\n",
    "    sim_scores = sim_scores[1:101]  # Exclude itself, get top 100\n",
    "    \n",
    "    movie_indices = [i[0] for i in sim_scores]\n",
    "    return movies.iloc[movie_indices][['title', 'genres']]\n",
    "\n",
    "# Function: Recommend by Genre\n",
    "def recommend_by_genre(genre_name):\n",
    "    results = movies[movies['genres'].str.contains(genre_name, case=False, na=False)]\n",
    "    return results[['title', 'genres']].head(100)\n",
    "\n",
    "# Function: Hybrid Recommendation\n",
    "\n",
    "# If the user gives both movie title & genre:\n",
    "def hybrid_recommendation(movie_title=None, genre=None):\n",
    "    if movie_title and genre:\n",
    "        movies_by_genre = recommend_by_genre(genre)\n",
    "        similar_movies = get_recommendations(movie_title)\n",
    "        hybrid_df = pd.merge(movies_by_genre, similar_movies, on='title', how='inner')\n",
    "        return hybrid_df.head(100)\n",
    "    \n",
    "    elif movie_title:\n",
    "        return get_recommendations(movie_title)\n",
    "    \n",
    "    elif genre:\n",
    "        return recommend_by_genre(genre)\n",
    "    \n",
    "    else:\n",
    "        return pd.DataFrame({\"title\": [], \"genres\": []})"
   ]
  },
  {
   "cell_type": "code",
   "execution_count": null,
   "id": "d2d65df4",
   "metadata": {},
   "outputs": [],
   "source": [
    "# STEP 9 – User Input & Test\n",
    "\n",
    "# Example:\n",
    "# Test hybrid function\n",
    "title_input = \"The Dark Knight\"\n",
    "genre_input = \"Action\"\n",
    "\n",
    "recommendations = hybrid_recommendation(title_input, genre_input)\n",
    "print(recommendations.head(10))"
   ]
  },
  {
   "cell_type": "code",
   "execution_count": null,
   "id": "b8541fa7",
   "metadata": {},
   "outputs": [],
   "source": [
    "# STEP 10 – Save Model (Optional)\n",
    "\n",
    "import pickle\n",
    "\n",
    "# Save trained SVD model\n",
    "with open(\"svd_model.pkl\", \"wb\") as f:\n",
    "    pickle.dump(algo, f)"
   ]
  }
 ],
 "metadata": {
  "kernelspec": {
   "display_name": "Python 3",
   "language": "python",
   "name": "python3"
  },
  "language_info": {
   "codemirror_mode": {
    "name": "ipython",
    "version": 3
   },
   "file_extension": ".py",
   "mimetype": "text/x-python",
   "name": "python",
   "nbconvert_exporter": "python",
   "pygments_lexer": "ipython3",
   "version": "3.13.2"
  }
 },
 "nbformat": 4,
 "nbformat_minor": 5
}
